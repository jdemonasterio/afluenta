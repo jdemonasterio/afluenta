{
 "cells": [
  {
   "cell_type": "markdown",
   "metadata": {},
   "source": [
    "## Notebook de Analisis de Afluenta"
   ]
  },
  {
   "cell_type": "code",
   "execution_count": 1,
   "metadata": {
    "collapsed": true
   },
   "outputs": [],
   "source": [
    "import pandas as pd\n",
    "import numpy as np\n"
   ]
  },
  {
   "cell_type": "code",
   "execution_count": 2,
   "metadata": {
    "collapsed": false
   },
   "outputs": [
    {
     "name": "stdout",
     "output_type": "stream",
     "text": [
      "afluenta.csv\t\t    LenderAccountBug.ipynb\tREADME.md\r\n",
      "afluenta - Sheet1.csv\t    LenderAccountMovements.xls\r\n",
      "fastInterestAnalysis.ipynb  LenderProfitProjection.xls\r\n"
     ]
    }
   ],
   "source": [
    "!ls"
   ]
  },
  {
   "cell_type": "code",
   "execution_count": 4,
   "metadata": {
    "collapsed": true
   },
   "outputs": [],
   "source": [
    "pd.read_excel?"
   ]
  },
  {
   "cell_type": "code",
   "execution_count": 12,
   "metadata": {
    "collapsed": false,
    "scrolled": true
   },
   "outputs": [
    {
     "data": {
      "text/plain": [
       "Index(['Fecha', 'Operación', 'Débitos', 'Créditos', 'Saldo'], dtype='object')"
      ]
     },
     "execution_count": 12,
     "metadata": {},
     "output_type": "execute_result"
    }
   ],
   "source": [
    "df = pd.read_csv('LenderAccountMovements.csv',index_col=None,sep=\"|\")\n",
    "df.columns"
   ]
  },
  {
   "cell_type": "code",
   "execution_count": 13,
   "metadata": {
    "collapsed": false
   },
   "outputs": [
    {
     "data": {
      "text/html": [
       "<div>\n",
       "<table border=\"1\" class=\"dataframe\">\n",
       "  <thead>\n",
       "    <tr style=\"text-align: right;\">\n",
       "      <th></th>\n",
       "      <th>Fecha</th>\n",
       "      <th>Operación</th>\n",
       "      <th>Débitos</th>\n",
       "      <th>Créditos</th>\n",
       "      <th>Saldo</th>\n",
       "    </tr>\n",
       "  </thead>\n",
       "  <tbody>\n",
       "    <tr>\n",
       "      <th>0</th>\n",
       "      <td>22/11/2016 23:24</td>\n",
       "      <td>Comisión Afluenta: #AR-221607-G0009 (4/24) $ 6,90</td>\n",
       "      <td>0.14</td>\n",
       "      <td>NaN</td>\n",
       "      <td>21928.17</td>\n",
       "    </tr>\n",
       "    <tr>\n",
       "      <th>1</th>\n",
       "      <td>22/11/2016 23:24</td>\n",
       "      <td>Retorno por cuota: #AR-221607-G0009 (4/24) $ 6,90</td>\n",
       "      <td>NaN</td>\n",
       "      <td>4.14</td>\n",
       "      <td>21928.31</td>\n",
       "    </tr>\n",
       "    <tr>\n",
       "      <th>2</th>\n",
       "      <td>22/11/2016 23:21</td>\n",
       "      <td>Comisión Afluenta: #AR-301609-G0003 (2/48) $ 8,79</td>\n",
       "      <td>0.18</td>\n",
       "      <td>NaN</td>\n",
       "      <td>21924.17</td>\n",
       "    </tr>\n",
       "    <tr>\n",
       "      <th>3</th>\n",
       "      <td>22/11/2016 23:21</td>\n",
       "      <td>Retorno por cuota: #AR-301609-G0003 (2/48) $ 8,79</td>\n",
       "      <td>NaN</td>\n",
       "      <td>7.11</td>\n",
       "      <td>21924.35</td>\n",
       "    </tr>\n",
       "    <tr>\n",
       "      <th>4</th>\n",
       "      <td>21/11/2016 10:51</td>\n",
       "      <td>Comisión Afluenta: #AR-241607-I0004 (3/24) $ 1...</td>\n",
       "      <td>0.26</td>\n",
       "      <td>NaN</td>\n",
       "      <td>21917.24</td>\n",
       "    </tr>\n",
       "  </tbody>\n",
       "</table>\n",
       "</div>"
      ],
      "text/plain": [
       "              Fecha                                          Operación  \\\n",
       "0  22/11/2016 23:24  Comisión Afluenta: #AR-221607-G0009 (4/24) $ 6,90   \n",
       "1  22/11/2016 23:24  Retorno por cuota: #AR-221607-G0009 (4/24) $ 6,90   \n",
       "2  22/11/2016 23:21  Comisión Afluenta: #AR-301609-G0003 (2/48) $ 8,79   \n",
       "3  22/11/2016 23:21  Retorno por cuota: #AR-301609-G0003 (2/48) $ 8,79   \n",
       "4  21/11/2016 10:51  Comisión Afluenta: #AR-241607-I0004 (3/24) $ 1...   \n",
       "\n",
       "   Débitos  Créditos     Saldo  \n",
       "0     0.14       NaN  21928.17  \n",
       "1      NaN      4.14  21928.31  \n",
       "2     0.18       NaN  21924.17  \n",
       "3      NaN      7.11  21924.35  \n",
       "4     0.26       NaN  21917.24  "
      ]
     },
     "execution_count": 13,
     "metadata": {},
     "output_type": "execute_result"
    }
   ],
   "source": [
    "df.head()"
   ]
  },
  {
   "cell_type": "code",
   "execution_count": 17,
   "metadata": {
    "collapsed": false
   },
   "outputs": [
    {
     "name": "stdout",
     "output_type": "stream",
     "text": [
      "<class 'pandas.core.frame.DataFrame'>\n",
      "RangeIndex: 796 entries, 0 to 795\n",
      "Data columns (total 5 columns):\n",
      "Fecha        796 non-null object\n",
      "Operación    796 non-null object\n",
      "Débitos      400 non-null float64\n",
      "Créditos     396 non-null float64\n",
      "Saldo        796 non-null float64\n",
      "dtypes: float64(3), object(2)\n",
      "memory usage: 31.2+ KB\n"
     ]
    }
   ],
   "source": [
    "# get datatypes and null vals\n",
    "df.info()"
   ]
  },
  {
   "cell_type": "code",
   "execution_count": 18,
   "metadata": {
    "collapsed": true
   },
   "outputs": [],
   "source": [
    "## fill null vals with 0\n",
    "numeric_cols = [df.columns[-3:]]\n",
    "for col in numeric_cols:\n",
    "    df[col] = df[col].fillna(0)\n",
    "\n",
    "#set datetime col\n",
    "col = 'Fecha'\n",
    "df[col] = pd.to_datetime(df[col])"
   ]
  },
  {
   "cell_type": "code",
   "execution_count": 19,
   "metadata": {
    "collapsed": false
   },
   "outputs": [
    {
     "name": "stdout",
     "output_type": "stream",
     "text": [
      "<class 'pandas.core.frame.DataFrame'>\n",
      "RangeIndex: 796 entries, 0 to 795\n",
      "Data columns (total 5 columns):\n",
      "Fecha        796 non-null datetime64[ns]\n",
      "Operación    796 non-null object\n",
      "Débitos      796 non-null float64\n",
      "Créditos     796 non-null float64\n",
      "Saldo        796 non-null float64\n",
      "dtypes: datetime64[ns](1), float64(3), object(1)\n",
      "memory usage: 31.2+ KB\n"
     ]
    }
   ],
   "source": [
    "df.info()"
   ]
  },
  {
   "cell_type": "code",
   "execution_count": 20,
   "metadata": {
    "collapsed": true
   },
   "outputs": [],
   "source": [
    "# check accounting i.e. inputs - outputs == current_holdings\n",
    "input_money = df['Créditos'].sum() \n",
    "output_money = df['Débitos'].sum()  \n",
    "\n",
    "last_balance = df['Saldo'].iloc[0]"
   ]
  },
  {
   "cell_type": "code",
   "execution_count": 21,
   "metadata": {
    "collapsed": false
   },
   "outputs": [
    {
     "data": {
      "text/plain": [
       "21928.169999999998"
      ]
     },
     "execution_count": 21,
     "metadata": {},
     "output_type": "execute_result"
    }
   ],
   "source": [
    "last_balance"
   ]
  },
  {
   "cell_type": "code",
   "execution_count": 23,
   "metadata": {
    "collapsed": false
   },
   "outputs": [
    {
     "data": {
      "text/plain": [
       "22322.079999999998"
      ]
     },
     "execution_count": 23,
     "metadata": {},
     "output_type": "execute_result"
    }
   ],
   "source": [
    "input_money"
   ]
  },
  {
   "cell_type": "code",
   "execution_count": 24,
   "metadata": {
    "collapsed": false
   },
   "outputs": [
    {
     "data": {
      "text/plain": [
       "393.90999999999997"
      ]
     },
     "execution_count": 24,
     "metadata": {},
     "output_type": "execute_result"
    }
   ],
   "source": [
    "output_money"
   ]
  },
  {
   "cell_type": "code",
   "execution_count": 22,
   "metadata": {
    "collapsed": false
   },
   "outputs": [
    {
     "data": {
      "text/plain": [
       "True"
      ]
     },
     "execution_count": 22,
     "metadata": {},
     "output_type": "execute_result"
    }
   ],
   "source": [
    "input_money - output_money == last_balance"
   ]
  },
  {
   "cell_type": "code",
   "execution_count": null,
   "metadata": {
    "collapsed": true
   },
   "outputs": [],
   "source": []
  },
  {
   "cell_type": "code",
   "execution_count": 274,
   "metadata": {
    "collapsed": true
   },
   "outputs": [],
   "source": [
    "precios = table['precio']\n",
    "\n",
    "precios = precios.str.replace('$','')\n",
    "precios = precios.str.replace(' ','')\n",
    "precios = precios.str.replace(',','.')\n",
    "table['precio'] = precios.astype(float)\n",
    "#.astype(float)"
   ]
  },
  {
   "cell_type": "code",
   "execution_count": 275,
   "metadata": {
    "collapsed": false,
    "scrolled": false
   },
   "outputs": [
    {
     "name": "stdout",
     "output_type": "stream",
     "text": [
      "El capital actual del portafolio es 1330.15 y la tasa retorno esperada es 1.3041 porque el precio de la subasta fue 1020\n",
      "En 2 meses recuperas el 24.227 % de la subasta\n",
      "En 3 meses recuperas el 36.001 % de la subasta\n",
      "En 6 meses recuperas el 63.386 % de la subasta\n",
      "En 7 meses recuperas el 71.189 % de la subasta\n",
      "En 9 meses recuperas el 86.802 % de la subasta\n",
      "En 12 meses recuperas el 100.999 % de la subasta\n",
      "En 15 meses recuperas el 109.746 % de la subasta\n",
      "En 18 meses recuperas el 115.451 % de la subasta\n",
      "En 24 meses recuperas el 124.425 % de la subasta\n",
      "En 36 meses recuperas el 130.407 % de la subasta\n"
     ]
    }
   ],
   "source": [
    "precio_subasta = 1020\n",
    "\n",
    "meses_faltantes = len(table)\n",
    "\n",
    "capital = table['precio'].sum()\n",
    "\n",
    "print(\"El capital actual del portafolio es {r:.2f} y la tasa retorno esperada es {t:.4f} porque el precio de la subasta fue {s}\"\\\n",
    "          .format(r = capital, t = capital/precio_subasta, s = precio_subasta))\n",
    "\n",
    "meses_futuros = [2, 3, 6, 7, 9 ,12, 15, 18, 24, 36]\n",
    "for mes in meses_futuros:\n",
    "    print(\"En {m} meses recuperas el {p:.3f} % de la subasta\".format(m = mes, \n",
    "                p = table.loc[0:mes, 'precio'].sum()*100/precio_subasta))\n",
    "#meses_faltantes"
   ]
  },
  {
   "cell_type": "code",
   "execution_count": 276,
   "metadata": {
    "collapsed": false
   },
   "outputs": [
    {
     "data": {
      "text/plain": [
       "0.03333333333333333"
      ]
     },
     "execution_count": 276,
     "metadata": {},
     "output_type": "execute_result"
    }
   ],
   "source": [
    "tasa = 0.4/12\n",
    "tasa"
   ]
  },
  {
   "cell_type": "code",
   "execution_count": 277,
   "metadata": {
    "collapsed": false,
    "scrolled": true
   },
   "outputs": [],
   "source": [
    "table['con_interes_compuesto'] = [(1 + tasa/12)**n for n in range(len(table), 0, -1)  ]\n",
    "table['con_interes_compuesto'] = table['precio']*table['con_interes_compuesto']"
   ]
  },
  {
   "cell_type": "code",
   "execution_count": 278,
   "metadata": {
    "collapsed": false
   },
   "outputs": [
    {
     "data": {
      "text/plain": [
       "(29, 3)"
      ]
     },
     "execution_count": 278,
     "metadata": {},
     "output_type": "execute_result"
    }
   ],
   "source": [
    "table.shape"
   ]
  },
  {
   "cell_type": "code",
   "execution_count": 279,
   "metadata": {
    "collapsed": false
   },
   "outputs": [
    {
     "name": "stdout",
     "output_type": "stream",
     "text": [
      "El portafolio tiene 29 meses faltantes \n",
      "Con interes compuesto en 2 meses recuperas el 26.151 % de la subasta\n",
      "Con interes compuesto en 3 meses recuperas el 38.805 % de la subasta\n",
      "Con interes compuesto en 6 meses recuperas el 68.087 % de la subasta\n",
      "Con interes compuesto en 7 meses recuperas el 76.381 % de la subasta\n",
      "Con interes compuesto en 9 meses recuperas el 92.908 % de la subasta\n",
      "Con interes compuesto en 12 meses recuperas el 107.846 % de la subasta\n",
      "Con interes compuesto en 15 meses recuperas el 116.965 % de la subasta\n",
      "Con interes compuesto en 18 meses recuperas el 122.867 % de la subasta\n",
      "Con interes compuesto en 24 meses recuperas el 132.029 % de la subasta\n",
      "Con interes compuesto en 36 meses recuperas el 138.053 % de la subasta\n"
     ]
    }
   ],
   "source": [
    "print(\"El portafolio tiene {m} meses faltantes \"\\\n",
    "          .format(m = len(table), t = capital/precio_subasta, s = precio_subasta))\n",
    "\n",
    "for mes in meses_futuros:\n",
    "    print(\"Con interes compuesto en {m} meses recuperas el {p:.3f} % de la subasta\".format(m = mes, \n",
    "                p = table.loc[0:mes, 'con_interes_compuesto'].sum()*100/precio_subasta))"
   ]
  },
  {
   "cell_type": "code",
   "execution_count": 283,
   "metadata": {
    "collapsed": false
   },
   "outputs": [],
   "source": [
    "flujo_prestamos = pd.read_csv('flujo-caja.csv')"
   ]
  },
  {
   "cell_type": "code",
   "execution_count": 284,
   "metadata": {
    "collapsed": false
   },
   "outputs": [
    {
     "data": {
      "text/html": [
       "<div>\n",
       "<table border=\"1\" class=\"dataframe\">\n",
       "  <thead>\n",
       "    <tr style=\"text-align: right;\">\n",
       "      <th></th>\n",
       "      <th>Período</th>\n",
       "      <th>Detalle</th>\n",
       "      <th>Capital</th>\n",
       "      <th>Interés</th>\n",
       "      <th>Int. punitorios</th>\n",
       "      <th>Comisión</th>\n",
       "      <th>Retorno neto</th>\n",
       "    </tr>\n",
       "  </thead>\n",
       "  <tbody>\n",
       "    <tr>\n",
       "      <th>0</th>\n",
       "      <td>2016-07-01</td>\n",
       "      <td>13 cuotas en este período</td>\n",
       "      <td>0.00</td>\n",
       "      <td>0.00</td>\n",
       "      <td>0</td>\n",
       "      <td>0.00</td>\n",
       "      <td>0.00</td>\n",
       "    </tr>\n",
       "    <tr>\n",
       "      <th>1</th>\n",
       "      <td>2016-08-01</td>\n",
       "      <td>25 cuotas en este período</td>\n",
       "      <td>153.07</td>\n",
       "      <td>178.01</td>\n",
       "      <td>0</td>\n",
       "      <td>6.62</td>\n",
       "      <td>324.46</td>\n",
       "    </tr>\n",
       "    <tr>\n",
       "      <th>2</th>\n",
       "      <td>2016-09-01</td>\n",
       "      <td>25 cuotas en este período</td>\n",
       "      <td>158.97</td>\n",
       "      <td>172.15</td>\n",
       "      <td>0</td>\n",
       "      <td>6.62</td>\n",
       "      <td>324.50</td>\n",
       "    </tr>\n",
       "    <tr>\n",
       "      <th>3</th>\n",
       "      <td>2016-10-01</td>\n",
       "      <td>25 cuotas en este período</td>\n",
       "      <td>165.02</td>\n",
       "      <td>166.06</td>\n",
       "      <td>0</td>\n",
       "      <td>6.62</td>\n",
       "      <td>324.46</td>\n",
       "    </tr>\n",
       "    <tr>\n",
       "      <th>4</th>\n",
       "      <td>2016-11-01</td>\n",
       "      <td>25 cuotas en este período</td>\n",
       "      <td>171.40</td>\n",
       "      <td>159.69</td>\n",
       "      <td>0</td>\n",
       "      <td>6.62</td>\n",
       "      <td>324.47</td>\n",
       "    </tr>\n",
       "  </tbody>\n",
       "</table>\n",
       "</div>"
      ],
      "text/plain": [
       "      Período                    Detalle  Capital  Interés  Int. punitorios  \\\n",
       "0  2016-07-01  13 cuotas en este período     0.00     0.00                0   \n",
       "1  2016-08-01  25 cuotas en este período   153.07   178.01                0   \n",
       "2  2016-09-01  25 cuotas en este período   158.97   172.15                0   \n",
       "3  2016-10-01  25 cuotas en este período   165.02   166.06                0   \n",
       "4  2016-11-01  25 cuotas en este período   171.40   159.69                0   \n",
       "\n",
       "   Comisión  Retorno neto  \n",
       "0      0.00          0.00  \n",
       "1      6.62        324.46  \n",
       "2      6.62        324.50  \n",
       "3      6.62        324.46  \n",
       "4      6.62        324.47  "
      ]
     },
     "execution_count": 284,
     "metadata": {},
     "output_type": "execute_result"
    }
   ],
   "source": [
    "flujo_prestamos.head()"
   ]
  },
  {
   "cell_type": "code",
   "execution_count": 290,
   "metadata": {
    "collapsed": false
   },
   "outputs": [],
   "source": [
    "flujo_prestamos.columns = ['Date', 'Details', 'Capital', 'Interest', 'Interest-Fine', 'Commission', 'NetReturn']"
   ]
  },
  {
   "cell_type": "code",
   "execution_count": 286,
   "metadata": {
    "collapsed": false
   },
   "outputs": [
    {
     "data": {
      "text/plain": [
       "Período             object\n",
       "Detalle             object\n",
       "Capital            float64\n",
       "Interés            float64\n",
       "Int. punitorios      int64\n",
       "Comisión           float64\n",
       "Retorno neto       float64\n",
       "dtype: object"
      ]
     },
     "execution_count": 286,
     "metadata": {},
     "output_type": "execute_result"
    }
   ],
   "source": [
    "flujo_prestamos.dtypes"
   ]
  },
  {
   "cell_type": "code",
   "execution_count": 291,
   "metadata": {
    "collapsed": false
   },
   "outputs": [],
   "source": [
    "flujo_prestamos['Date'] = pd.to_datetime(flujo_prestamos['Date'], yearfirst=True, infer_datetime_format=True)\n",
    "#flujo_prestamos"
   ]
  },
  {
   "cell_type": "code",
   "execution_count": 293,
   "metadata": {
    "collapsed": true
   },
   "outputs": [],
   "source": [
    "tasa = 0.38\n",
    "tasa = tasa/12"
   ]
  },
  {
   "cell_type": "code",
   "execution_count": 295,
   "metadata": {
    "collapsed": false,
    "scrolled": true
   },
   "outputs": [],
   "source": [
    "flujo_prestamos['con_interes_compuesto'] = [(1 + tasa/12)**n for n in range(len(flujo_prestamos), 0, -1)  ]\n",
    "flujo_prestamos['con_interes_compuesto'] = flujo_prestamos['NetReturn']*flujo_prestamos['con_interes_compuesto']"
   ]
  },
  {
   "cell_type": "code",
   "execution_count": 296,
   "metadata": {
    "collapsed": false
   },
   "outputs": [
    {
     "name": "stdout",
     "output_type": "stream",
     "text": [
      "El capital actual del portafolio es 5263.00 y la tasa retorno esperada es 1.3265 \n",
      "En 2 meses recuperas el 12.331 % de la subasta\n",
      "En 3 meses recuperas el 18.496 % de la subasta\n",
      "En 6 meses recuperas el 36.991 % de la subasta\n",
      "En 7 meses recuperas el 43.156 % de la subasta\n",
      "En 9 meses recuperas el 55.487 % de la subasta\n",
      "En 12 meses recuperas el 73.982 % de la subasta\n",
      "En 15 meses recuperas el 88.394 % de la subasta\n",
      "En 18 meses recuperas el 102.224 % de la subasta\n",
      "En 24 meses recuperas el 117.807 % de la subasta\n",
      "En 36 meses recuperas el 131.585 % de la subasta\n"
     ]
    }
   ],
   "source": [
    "precio_subasta = 5263\n",
    "\n",
    "meses_faltantes = len(flujo_prestamos)\n",
    "\n",
    "capital_futuro = flujo_prestamos['NetReturn'].sum()\n",
    "\n",
    "print(\"El capital actual del portafolio es {r:.2f} y la tasa retorno esperada es {t:.4f} \"\\\n",
    "          .format(r = precio_subasta, t = capital_futuro/precio_subasta, s = precio_subasta))\n",
    "\n",
    "meses_futuros = [2, 3, 6, 7, 9 ,12, 15, 18, 24, 36]\n",
    "for mes in meses_futuros:\n",
    "    print(\"En {m} meses recuperas el {p:.3f} % de la subasta\".format(m = mes, \n",
    "                p = flujo_prestamos.loc[0:mes, 'NetReturn'].sum()*100/precio_subasta))\n",
    "#meses_faltantes"
   ]
  },
  {
   "cell_type": "code",
   "execution_count": 298,
   "metadata": {
    "collapsed": false
   },
   "outputs": [
    {
     "name": "stdout",
     "output_type": "stream",
     "text": [
      "El portafolio tiene 49 meses faltantes \n",
      "Con interes compuesto en 2 meses recuperas el 13.975 % del capital inicial\n",
      "Con interes compuesto en 3 meses recuperas el 20.934 % del capital inicial\n",
      "Con interes compuesto en 6 meses recuperas el 41.704 % del capital inicial\n",
      "Con interes compuesto en 7 meses recuperas el 48.591 % del capital inicial\n",
      "Con interes compuesto en 9 meses recuperas el 62.310 % del capital inicial\n",
      "Con interes compuesto en 12 meses recuperas el 82.754 % del capital inicial\n",
      "Con interes compuesto en 15 meses recuperas el 98.560 % del capital inicial\n",
      "Con interes compuesto en 18 meses recuperas el 113.607 % del capital inicial\n",
      "Con interes compuesto en 24 meses recuperas el 130.367 % del capital inicial\n",
      "Con interes compuesto en 36 meses recuperas el 144.875 % del capital inicial\n"
     ]
    }
   ],
   "source": [
    "print(\"El portafolio tiene {m} meses faltantes \"\\\n",
    "          .format(m = len(flujo_prestamos), t = capital_futuro/precio_subasta, s = precio_subasta))\n",
    "\n",
    "for mes in meses_futuros:\n",
    "    print(\"Con interes compuesto en {m} meses recuperas el {p:.3f} % del capital inicial\".format(m = mes, \n",
    "                p = flujo_prestamos.loc[0:mes, 'con_interes_compuesto'].sum()*100/precio_subasta))"
   ]
  },
  {
   "cell_type": "code",
   "execution_count": null,
   "metadata": {
    "collapsed": true
   },
   "outputs": [],
   "source": []
  }
 ],
 "metadata": {
  "kernelspec": {
   "display_name": "Python 3",
   "language": "python",
   "name": "python3"
  },
  "language_info": {
   "codemirror_mode": {
    "name": "ipython",
    "version": 3
   },
   "file_extension": ".py",
   "mimetype": "text/x-python",
   "name": "python",
   "nbconvert_exporter": "python",
   "pygments_lexer": "ipython3",
   "version": "3.5.1+"
  }
 },
 "nbformat": 4,
 "nbformat_minor": 0
}
