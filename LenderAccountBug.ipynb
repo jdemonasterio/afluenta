{
 "cells": [
  {
   "cell_type": "markdown",
   "metadata": {},
   "source": [
    "## Notebook de Analisis de Afluenta"
   ]
  },
  {
   "cell_type": "code",
   "execution_count": 1,
   "metadata": {
    "collapsed": true
   },
   "outputs": [],
   "source": [
    "import pandas as pd\n",
    "import numpy as np\n"
   ]
  },
  {
   "cell_type": "code",
   "execution_count": 2,
   "metadata": {
    "collapsed": false
   },
   "outputs": [
    {
     "name": "stdout",
     "output_type": "stream",
     "text": [
      "afluenta.csv\t\t    LenderAccountBug.ipynb\tREADME.md\r\n",
      "afluenta - Sheet1.csv\t    LenderAccountMovements.xls\r\n",
      "fastInterestAnalysis.ipynb  LenderProfitProjection.xls\r\n"
     ]
    }
   ],
   "source": [
    "!ls"
   ]
  },
  {
   "cell_type": "code",
   "execution_count": 4,
   "metadata": {
    "collapsed": true
   },
   "outputs": [],
   "source": [
    "pd.read_excel?"
   ]
  },
  {
   "cell_type": "code",
   "execution_count": 12,
   "metadata": {
    "collapsed": false,
    "scrolled": true
   },
   "outputs": [
    {
     "data": {
      "text/plain": [
       "Index(['Fecha', 'Operación', 'Débitos', 'Créditos', 'Saldo'], dtype='object')"
      ]
     },
     "execution_count": 12,
     "metadata": {},
     "output_type": "execute_result"
    }
   ],
   "source": [
    "df = pd.read_csv('LenderAccountMovements.csv',index_col=None,sep=\"|\")\n",
    "df.columns"
   ]
  },
  {
   "cell_type": "code",
   "execution_count": 13,
   "metadata": {
    "collapsed": false
   },
   "outputs": [
    {
     "data": {
      "text/html": [
       "<div>\n",
       "<table border=\"1\" class=\"dataframe\">\n",
       "  <thead>\n",
       "    <tr style=\"text-align: right;\">\n",
       "      <th></th>\n",
       "      <th>Fecha</th>\n",
       "      <th>Operación</th>\n",
       "      <th>Débitos</th>\n",
       "      <th>Créditos</th>\n",
       "      <th>Saldo</th>\n",
       "    </tr>\n",
       "  </thead>\n",
       "  <tbody>\n",
       "    <tr>\n",
       "      <th>0</th>\n",
       "      <td>22/11/2016 23:24</td>\n",
       "      <td>Comisión Afluenta: #AR-221607-G0009 (4/24) $ 6,90</td>\n",
       "      <td>0.14</td>\n",
       "      <td>NaN</td>\n",
       "      <td>21928.17</td>\n",
       "    </tr>\n",
       "    <tr>\n",
       "      <th>1</th>\n",
       "      <td>22/11/2016 23:24</td>\n",
       "      <td>Retorno por cuota: #AR-221607-G0009 (4/24) $ 6,90</td>\n",
       "      <td>NaN</td>\n",
       "      <td>4.14</td>\n",
       "      <td>21928.31</td>\n",
       "    </tr>\n",
       "    <tr>\n",
       "      <th>2</th>\n",
       "      <td>22/11/2016 23:21</td>\n",
       "      <td>Comisión Afluenta: #AR-301609-G0003 (2/48) $ 8,79</td>\n",
       "      <td>0.18</td>\n",
       "      <td>NaN</td>\n",
       "      <td>21924.17</td>\n",
       "    </tr>\n",
       "    <tr>\n",
       "      <th>3</th>\n",
       "      <td>22/11/2016 23:21</td>\n",
       "      <td>Retorno por cuota: #AR-301609-G0003 (2/48) $ 8,79</td>\n",
       "      <td>NaN</td>\n",
       "      <td>7.11</td>\n",
       "      <td>21924.35</td>\n",
       "    </tr>\n",
       "    <tr>\n",
       "      <th>4</th>\n",
       "      <td>21/11/2016 10:51</td>\n",
       "      <td>Comisión Afluenta: #AR-241607-I0004 (3/24) $ 1...</td>\n",
       "      <td>0.26</td>\n",
       "      <td>NaN</td>\n",
       "      <td>21917.24</td>\n",
       "    </tr>\n",
       "  </tbody>\n",
       "</table>\n",
       "</div>"
      ],
      "text/plain": [
       "              Fecha                                          Operación  \\\n",
       "0  22/11/2016 23:24  Comisión Afluenta: #AR-221607-G0009 (4/24) $ 6,90   \n",
       "1  22/11/2016 23:24  Retorno por cuota: #AR-221607-G0009 (4/24) $ 6,90   \n",
       "2  22/11/2016 23:21  Comisión Afluenta: #AR-301609-G0003 (2/48) $ 8,79   \n",
       "3  22/11/2016 23:21  Retorno por cuota: #AR-301609-G0003 (2/48) $ 8,79   \n",
       "4  21/11/2016 10:51  Comisión Afluenta: #AR-241607-I0004 (3/24) $ 1...   \n",
       "\n",
       "   Débitos  Créditos     Saldo  \n",
       "0     0.14       NaN  21928.17  \n",
       "1      NaN      4.14  21928.31  \n",
       "2     0.18       NaN  21924.17  \n",
       "3      NaN      7.11  21924.35  \n",
       "4     0.26       NaN  21917.24  "
      ]
     },
     "execution_count": 13,
     "metadata": {},
     "output_type": "execute_result"
    }
   ],
   "source": [
    "df.head()"
   ]
  },
  {
   "cell_type": "code",
   "execution_count": 17,
   "metadata": {
    "collapsed": false
   },
   "outputs": [
    {
     "name": "stdout",
     "output_type": "stream",
     "text": [
      "<class 'pandas.core.frame.DataFrame'>\n",
      "RangeIndex: 796 entries, 0 to 795\n",
      "Data columns (total 5 columns):\n",
      "Fecha        796 non-null object\n",
      "Operación    796 non-null object\n",
      "Débitos      400 non-null float64\n",
      "Créditos     396 non-null float64\n",
      "Saldo        796 non-null float64\n",
      "dtypes: float64(3), object(2)\n",
      "memory usage: 31.2+ KB\n"
     ]
    }
   ],
   "source": [
    "# get datatypes and null vals\n",
    "df.info()"
   ]
  },
  {
   "cell_type": "code",
   "execution_count": 18,
   "metadata": {
    "collapsed": true
   },
   "outputs": [],
   "source": [
    "## fill null vals with 0\n",
    "numeric_cols = [df.columns[-3:]]\n",
    "for col in numeric_cols:\n",
    "    df[col] = df[col].fillna(0)\n",
    "\n",
    "#set datetime col\n",
    "col = 'Fecha'\n",
    "df[col] = pd.to_datetime(df[col])"
   ]
  },
  {
   "cell_type": "code",
   "execution_count": 19,
   "metadata": {
    "collapsed": false
   },
   "outputs": [
    {
     "name": "stdout",
     "output_type": "stream",
     "text": [
      "<class 'pandas.core.frame.DataFrame'>\n",
      "RangeIndex: 796 entries, 0 to 795\n",
      "Data columns (total 5 columns):\n",
      "Fecha        796 non-null datetime64[ns]\n",
      "Operación    796 non-null object\n",
      "Débitos      796 non-null float64\n",
      "Créditos     796 non-null float64\n",
      "Saldo        796 non-null float64\n",
      "dtypes: datetime64[ns](1), float64(3), object(1)\n",
      "memory usage: 31.2+ KB\n"
     ]
    }
   ],
   "source": [
    "df.info()"
   ]
  },
  {
   "cell_type": "code",
   "execution_count": 20,
   "metadata": {
    "collapsed": true
   },
   "outputs": [],
   "source": [
    "# check accounting i.e. inputs - outputs == current_holdings\n",
    "input_money = df['Créditos'].sum() \n",
    "output_money = df['Débitos'].sum()  \n",
    "\n",
    "last_balance = df['Saldo'].iloc[0]"
   ]
  },
  {
   "cell_type": "code",
   "execution_count": 21,
   "metadata": {
    "collapsed": false
   },
   "outputs": [
    {
     "data": {
      "text/plain": [
       "21928.169999999998"
      ]
     },
     "execution_count": 21,
     "metadata": {},
     "output_type": "execute_result"
    }
   ],
   "source": [
    "last_balance"
   ]
  },
  {
   "cell_type": "code",
   "execution_count": 23,
   "metadata": {
    "collapsed": false
   },
   "outputs": [
    {
     "data": {
      "text/plain": [
       "22322.079999999998"
      ]
     },
     "execution_count": 23,
     "metadata": {},
     "output_type": "execute_result"
    }
   ],
   "source": [
    "input_money"
   ]
  },
  {
   "cell_type": "code",
   "execution_count": 24,
   "metadata": {
    "collapsed": false
   },
   "outputs": [
    {
     "data": {
      "text/plain": [
       "393.90999999999997"
      ]
     },
     "execution_count": 24,
     "metadata": {},
     "output_type": "execute_result"
    }
   ],
   "source": [
    "output_money"
   ]
  },
  {
   "cell_type": "code",
   "execution_count": 22,
   "metadata": {
    "collapsed": false
   },
   "outputs": [
    {
     "data": {
      "text/plain": [
       "True"
      ]
     },
     "execution_count": 22,
     "metadata": {},
     "output_type": "execute_result"
    }
   ],
   "source": [
    "input_money - output_money == last_balance"
   ]
  },
  {
   "cell_type": "code",
   "execution_count": null,
   "metadata": {
    "collapsed": true
   },
   "outputs": [],
   "source": []
  },
  {
   "cell_type": "code",
   "execution_count": null,
   "metadata": {
    "collapsed": true
   },
   "outputs": [],
   "source": []
  },
  {
   "cell_type": "code",
   "execution_count": null,
   "metadata": {
    "collapsed": true
   },
   "outputs": [],
   "source": []
  }
 ],
 "metadata": {
  "kernelspec": {
   "display_name": "Python 3",
   "language": "python",
   "name": "python3"
  },
  "language_info": {
   "codemirror_mode": {
    "name": "ipython",
    "version": 3
   },
   "file_extension": ".py",
   "mimetype": "text/x-python",
   "name": "python",
   "nbconvert_exporter": "python",
   "pygments_lexer": "ipython3",
   "version": "3.5.1+"
  }
 },
 "nbformat": 4,
 "nbformat_minor": 0
}
