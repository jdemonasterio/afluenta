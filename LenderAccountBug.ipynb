{
 "cells": [
  {
   "cell_type": "markdown",
   "metadata": {},
   "source": [
    "## Notebook de Analisis de Afluenta"
   ]
  },
  {
   "cell_type": "code",
   "execution_count": 1,
   "metadata": {
    "collapsed": true
   },
   "outputs": [],
   "source": [
    "import pandas as pd\n",
    "import numpy as np\n"
   ]
  },
  {
   "cell_type": "code",
   "execution_count": 2,
   "metadata": {
    "collapsed": false
   },
   "outputs": [
    {
     "name": "stdout",
     "output_type": "stream",
     "text": [
      "afluenta.csv\t\t    LenderAccountBug.ipynb\tREADME.md\r\n",
      "afluenta - Sheet1.csv\t    LenderAccountMovements.xls\r\n",
      "fastInterestAnalysis.ipynb  LenderProfitProjection.xls\r\n"
     ]
    }
   ],
   "source": [
    "!ls"
   ]
  },
  {
   "cell_type": "code",
   "execution_count": 4,
   "metadata": {
    "collapsed": true
   },
   "outputs": [],
   "source": [
    "pd.read_excel?"
   ]
  },
  {
   "cell_type": "code",
   "execution_count": 12,
   "metadata": {
    "collapsed": false,
    "scrolled": true
   },
   "outputs": [
    {
     "data": {
      "text/plain": [
       "Index(['Fecha', 'Operación', 'Débitos', 'Créditos', 'Saldo'], dtype='object')"
      ]
     },
     "execution_count": 12,
     "metadata": {},
     "output_type": "execute_result"
    }
   ],
   "source": [
    "df = pd.read_csv('LenderAccountMovements.csv',index_col=None,sep=\"|\")\n",
    "df.columns"
   ]
  },
  {
   "cell_type": "code",
   "execution_count": 13,
   "metadata": {
    "collapsed": false
   },
   "outputs": [
    {
     "data": {
      "text/html": [
       "<div>\n",
       "<table border=\"1\" class=\"dataframe\">\n",
       "  <thead>\n",
       "    <tr style=\"text-align: right;\">\n",
       "      <th></th>\n",
       "      <th>Fecha</th>\n",
       "      <th>Operación</th>\n",
       "      <th>Débitos</th>\n",
       "      <th>Créditos</th>\n",
       "      <th>Saldo</th>\n",
       "    </tr>\n",
       "  </thead>\n",
       "  <tbody>\n",
       "    <tr>\n",
       "      <th>0</th>\n",
       "      <td>22/11/2016 23:24</td>\n",
       "      <td>Comisión Afluenta: #AR-221607-G0009 (4/24) $ 6,90</td>\n",
       "      <td>0.14</td>\n",
       "      <td>NaN</td>\n",
       "      <td>21928.17</td>\n",
       "    </tr>\n",
       "    <tr>\n",
       "      <th>1</th>\n",
       "      <td>22/11/2016 23:24</td>\n",
       "      <td>Retorno por cuota: #AR-221607-G0009 (4/24) $ 6,90</td>\n",
       "      <td>NaN</td>\n",
       "      <td>4.14</td>\n",
       "      <td>21928.31</td>\n",
       "    </tr>\n",
       "    <tr>\n",
       "      <th>2</th>\n",
       "      <td>22/11/2016 23:21</td>\n",
       "      <td>Comisión Afluenta: #AR-301609-G0003 (2/48) $ 8,79</td>\n",
       "      <td>0.18</td>\n",
       "      <td>NaN</td>\n",
       "      <td>21924.17</td>\n",
       "    </tr>\n",
       "    <tr>\n",
       "      <th>3</th>\n",
       "      <td>22/11/2016 23:21</td>\n",
       "      <td>Retorno por cuota: #AR-301609-G0003 (2/48) $ 8,79</td>\n",
       "      <td>NaN</td>\n",
       "      <td>7.11</td>\n",
       "      <td>21924.35</td>\n",
       "    </tr>\n",
       "    <tr>\n",
       "      <th>4</th>\n",
       "      <td>21/11/2016 10:51</td>\n",
       "      <td>Comisión Afluenta: #AR-241607-I0004 (3/24) $ 1...</td>\n",
       "      <td>0.26</td>\n",
       "      <td>NaN</td>\n",
       "      <td>21917.24</td>\n",
       "    </tr>\n",
       "  </tbody>\n",
       "</table>\n",
       "</div>"
      ],
      "text/plain": [
       "              Fecha                                          Operación  \\\n",
       "0  22/11/2016 23:24  Comisión Afluenta: #AR-221607-G0009 (4/24) $ 6,90   \n",
       "1  22/11/2016 23:24  Retorno por cuota: #AR-221607-G0009 (4/24) $ 6,90   \n",
       "2  22/11/2016 23:21  Comisión Afluenta: #AR-301609-G0003 (2/48) $ 8,79   \n",
       "3  22/11/2016 23:21  Retorno por cuota: #AR-301609-G0003 (2/48) $ 8,79   \n",
       "4  21/11/2016 10:51  Comisión Afluenta: #AR-241607-I0004 (3/24) $ 1...   \n",
       "\n",
       "   Débitos  Créditos     Saldo  \n",
       "0     0.14       NaN  21928.17  \n",
       "1      NaN      4.14  21928.31  \n",
       "2     0.18       NaN  21924.17  \n",
       "3      NaN      7.11  21924.35  \n",
       "4     0.26       NaN  21917.24  "
      ]
     },
     "execution_count": 13,
     "metadata": {},
     "output_type": "execute_result"
    }
   ],
   "source": [
    "df.head()"
   ]
  },
  {
   "cell_type": "code",
   "execution_count": 17,
   "metadata": {
    "collapsed": false
   },
   "outputs": [
    {
     "name": "stdout",
     "output_type": "stream",
     "text": [
      "<class 'pandas.core.frame.DataFrame'>\n",
      "RangeIndex: 796 entries, 0 to 795\n",
      "Data columns (total 5 columns):\n",
      "Fecha        796 non-null object\n",
      "Operación    796 non-null object\n",
      "Débitos      400 non-null float64\n",
      "Créditos     396 non-null float64\n",
      "Saldo        796 non-null float64\n",
      "dtypes: float64(3), object(2)\n",
      "memory usage: 31.2+ KB\n"
     ]
    }
   ],
   "source": [
    "# get datatypes and null vals\n",
    "df.info()"
   ]
  },
  {
   "cell_type": "code",
   "execution_count": 30,
   "metadata": {
    "collapsed": false
   },
   "outputs": [
    {
     "data": {
      "text/plain": [
       "Index(['Fecha', 'Operación', 'Débitos', 'Créditos', 'Saldo'], dtype='object')"
      ]
     },
     "execution_count": 30,
     "metadata": {},
     "output_type": "execute_result"
    }
   ],
   "source": [
    "df.columns"
   ]
  },
  {
   "cell_type": "code",
   "execution_count": 18,
   "metadata": {
    "collapsed": true
   },
   "outputs": [],
   "source": [
    "## fill null vals with 0\n",
    "numeric_cols = df.columns[-3:]\n",
    "for col in numeric_cols:\n",
    "    df[col] = df[col].fillna(0)\n",
    "\n",
    "#set datetime col\n",
    "col = 'Fecha'\n",
    "df[col] = pd.to_datetime(df[col])"
   ]
  },
  {
   "cell_type": "code",
   "execution_count": 19,
   "metadata": {
    "collapsed": false
   },
   "outputs": [
    {
     "name": "stdout",
     "output_type": "stream",
     "text": [
      "<class 'pandas.core.frame.DataFrame'>\n",
      "RangeIndex: 796 entries, 0 to 795\n",
      "Data columns (total 5 columns):\n",
      "Fecha        796 non-null datetime64[ns]\n",
      "Operación    796 non-null object\n",
      "Débitos      796 non-null float64\n",
      "Créditos     796 non-null float64\n",
      "Saldo        796 non-null float64\n",
      "dtypes: datetime64[ns](1), float64(3), object(1)\n",
      "memory usage: 31.2+ KB\n"
     ]
    }
   ],
   "source": [
    "df.info()"
   ]
  },
  {
   "cell_type": "code",
   "execution_count": 35,
   "metadata": {
    "collapsed": true
   },
   "outputs": [],
   "source": [
    "df = df.set_index('Fecha')"
   ]
  },
  {
   "cell_type": "markdown",
   "metadata": {},
   "source": [
    "# check accounting i.e. inputs - outputs == current_holdings"
   ]
  },
  {
   "cell_type": "code",
   "execution_count": 36,
   "metadata": {
    "collapsed": true
   },
   "outputs": [],
   "source": [
    "input_money = df['Créditos'].sum() \n",
    "output_money = df['Débitos'].sum()  \n",
    "last_balance = df['Saldo'].iloc[0]"
   ]
  },
  {
   "cell_type": "code",
   "execution_count": 51,
   "metadata": {
    "collapsed": false
   },
   "outputs": [
    {
     "data": {
      "text/plain": [
       "(21909.759999999998, 22071.050000000003, 384.01999999999998)"
      ]
     },
     "execution_count": 51,
     "metadata": {},
     "output_type": "execute_result"
    }
   ],
   "source": [
    "last_balance, input_money, output_money"
   ]
  },
  {
   "cell_type": "code",
   "execution_count": 40,
   "metadata": {
    "collapsed": false
   },
   "outputs": [
    {
     "data": {
      "text/plain": [
       "True"
      ]
     },
     "execution_count": 40,
     "metadata": {},
     "output_type": "execute_result"
    }
   ],
   "source": [
    "input_money - output_money == last_balance"
   ]
  },
  {
   "cell_type": "markdown",
   "metadata": {},
   "source": [
    "## check same accounting until certain date limit"
   ]
  },
  {
   "cell_type": "code",
   "execution_count": 49,
   "metadata": {
    "collapsed": false
   },
   "outputs": [],
   "source": [
    "def net_accounting(df, filter_date=None):\n",
    "    if filter_date:\n",
    "        df = df[df.index<= filter_date]     \n",
    "    input_money = df['Créditos'].sum() \n",
    "    output_money = df['Débitos'].sum()  \n",
    "    last_balance = df['Saldo'].iloc[0]\n",
    "\n",
    "    return (input_money, output_money, last_balance)"
   ]
  },
  {
   "cell_type": "code",
   "execution_count": 96,
   "metadata": {
    "collapsed": true
   },
   "outputs": [],
   "source": [
    "input_money, output_money, last_balance = net_accounting(df, filter_date=pd.datetime(2016,11,15))"
   ]
  },
  {
   "cell_type": "code",
   "execution_count": 97,
   "metadata": {
    "collapsed": false
   },
   "outputs": [
    {
     "data": {
      "text/plain": [
       "(21808.07, 21929.82, 344.48000000000002)"
      ]
     },
     "execution_count": 97,
     "metadata": {},
     "output_type": "execute_result"
    }
   ],
   "source": [
    "last_balance, input_money, output_money"
   ]
  },
  {
   "cell_type": "code",
   "execution_count": 98,
   "metadata": {
    "collapsed": false
   },
   "outputs": [
    {
     "data": {
      "text/plain": [
       "False"
      ]
     },
     "execution_count": 98,
     "metadata": {},
     "output_type": "execute_result"
    }
   ],
   "source": [
    "input_money - output_money == last_balance"
   ]
  },
  {
   "cell_type": "markdown",
   "metadata": {},
   "source": [
    "# Bug found ??"
   ]
  },
  {
   "cell_type": "code",
   "execution_count": 99,
   "metadata": {
    "collapsed": false
   },
   "outputs": [
    {
     "data": {
      "text/html": [
       "<div>\n",
       "<table border=\"1\" class=\"dataframe\">\n",
       "  <thead>\n",
       "    <tr style=\"text-align: right;\">\n",
       "      <th></th>\n",
       "      <th>Operación</th>\n",
       "      <th>Débitos</th>\n",
       "      <th>Créditos</th>\n",
       "      <th>Saldo</th>\n",
       "    </tr>\n",
       "    <tr>\n",
       "      <th>Fecha</th>\n",
       "      <th></th>\n",
       "      <th></th>\n",
       "      <th></th>\n",
       "      <th></th>\n",
       "    </tr>\n",
       "  </thead>\n",
       "  <tbody>\n",
       "    <tr>\n",
       "      <th>2016-11-22 23:24:00</th>\n",
       "      <td>Comisión Afluenta: #AR-221607-G0009 (4/24) $ 6,90</td>\n",
       "      <td>0.14</td>\n",
       "      <td>0.00</td>\n",
       "      <td>21928.17</td>\n",
       "    </tr>\n",
       "    <tr>\n",
       "      <th>2016-11-22 23:24:00</th>\n",
       "      <td>Retorno por cuota: #AR-221607-G0009 (4/24) $ 6,90</td>\n",
       "      <td>0.00</td>\n",
       "      <td>4.14</td>\n",
       "      <td>21928.31</td>\n",
       "    </tr>\n",
       "    <tr>\n",
       "      <th>2016-11-22 23:21:00</th>\n",
       "      <td>Comisión Afluenta: #AR-301609-G0003 (2/48) $ 8,79</td>\n",
       "      <td>0.18</td>\n",
       "      <td>0.00</td>\n",
       "      <td>21924.17</td>\n",
       "    </tr>\n",
       "    <tr>\n",
       "      <th>2016-11-22 23:21:00</th>\n",
       "      <td>Retorno por cuota: #AR-301609-G0003 (2/48) $ 8,79</td>\n",
       "      <td>0.00</td>\n",
       "      <td>7.11</td>\n",
       "      <td>21924.35</td>\n",
       "    </tr>\n",
       "    <tr>\n",
       "      <th>2016-11-21 10:51:00</th>\n",
       "      <td>Comisión Afluenta: #AR-241607-I0004 (3/24) $ 1...</td>\n",
       "      <td>0.26</td>\n",
       "      <td>0.00</td>\n",
       "      <td>21917.24</td>\n",
       "    </tr>\n",
       "    <tr>\n",
       "      <th>2016-11-21 10:51:00</th>\n",
       "      <td>Retorno por cuota: #AR-241607-I0004 (3/24) $ 1...</td>\n",
       "      <td>0.00</td>\n",
       "      <td>7.74</td>\n",
       "      <td>21917.50</td>\n",
       "    </tr>\n",
       "    <tr>\n",
       "      <th>2016-11-18 14:45:00</th>\n",
       "      <td>Comisión Afluenta: #AR-211601-I0006 (9/24) $ 1...</td>\n",
       "      <td>0.27</td>\n",
       "      <td>0.00</td>\n",
       "      <td>21909.76</td>\n",
       "    </tr>\n",
       "    <tr>\n",
       "      <th>2016-11-18 14:45:00</th>\n",
       "      <td>Retorno por cuota: #AR-211601-I0006 (9/24) $ 1...</td>\n",
       "      <td>0.00</td>\n",
       "      <td>6.69</td>\n",
       "      <td>21910.03</td>\n",
       "    </tr>\n",
       "    <tr>\n",
       "      <th>2016-11-18 14:43:00</th>\n",
       "      <td>Comisión Afluenta: #AR-191607-G0009 (3/48) $ 2...</td>\n",
       "      <td>0.42</td>\n",
       "      <td>0.00</td>\n",
       "      <td>21903.34</td>\n",
       "    </tr>\n",
       "    <tr>\n",
       "      <th>2016-11-18 14:43:00</th>\n",
       "      <td>Retorno por cuota: #AR-191607-G0009 (3/48) $ 2...</td>\n",
       "      <td>0.00</td>\n",
       "      <td>16.37</td>\n",
       "      <td>21903.76</td>\n",
       "    </tr>\n",
       "    <tr>\n",
       "      <th>2016-11-17 23:30:00</th>\n",
       "      <td>Gastos comunes del fideicomiso</td>\n",
       "      <td>6.75</td>\n",
       "      <td>0.00</td>\n",
       "      <td>21887.39</td>\n",
       "    </tr>\n",
       "    <tr>\n",
       "      <th>2016-11-17 23:24:00</th>\n",
       "      <td>Comisión Afluenta: #AR-221607-M0006 (4/36) $ 1...</td>\n",
       "      <td>0.20</td>\n",
       "      <td>0.00</td>\n",
       "      <td>21922.39</td>\n",
       "    </tr>\n",
       "    <tr>\n",
       "      <th>2016-11-17 23:24:00</th>\n",
       "      <td>Retorno por cuota: #AR-221607-M0006 (4/36) $ 1...</td>\n",
       "      <td>0.00</td>\n",
       "      <td>7.19</td>\n",
       "      <td>21922.59</td>\n",
       "    </tr>\n",
       "    <tr>\n",
       "      <th>2016-11-17 23:24:00</th>\n",
       "      <td>Comisión Afluenta: #AR-231607-J0001 (4/36) $ 1...</td>\n",
       "      <td>0.20</td>\n",
       "      <td>0.00</td>\n",
       "      <td>21915.40</td>\n",
       "    </tr>\n",
       "    <tr>\n",
       "      <th>2016-11-17 23:24:00</th>\n",
       "      <td>Retorno por cuota: #AR-231607-J0001 (4/36) $ 1...</td>\n",
       "      <td>0.00</td>\n",
       "      <td>7.19</td>\n",
       "      <td>21915.60</td>\n",
       "    </tr>\n",
       "  </tbody>\n",
       "</table>\n",
       "</div>"
      ],
      "text/plain": [
       "                                                             Operación  \\\n",
       "Fecha                                                                    \n",
       "2016-11-22 23:24:00  Comisión Afluenta: #AR-221607-G0009 (4/24) $ 6,90   \n",
       "2016-11-22 23:24:00  Retorno por cuota: #AR-221607-G0009 (4/24) $ 6,90   \n",
       "2016-11-22 23:21:00  Comisión Afluenta: #AR-301609-G0003 (2/48) $ 8,79   \n",
       "2016-11-22 23:21:00  Retorno por cuota: #AR-301609-G0003 (2/48) $ 8,79   \n",
       "2016-11-21 10:51:00  Comisión Afluenta: #AR-241607-I0004 (3/24) $ 1...   \n",
       "2016-11-21 10:51:00  Retorno por cuota: #AR-241607-I0004 (3/24) $ 1...   \n",
       "2016-11-18 14:45:00  Comisión Afluenta: #AR-211601-I0006 (9/24) $ 1...   \n",
       "2016-11-18 14:45:00  Retorno por cuota: #AR-211601-I0006 (9/24) $ 1...   \n",
       "2016-11-18 14:43:00  Comisión Afluenta: #AR-191607-G0009 (3/48) $ 2...   \n",
       "2016-11-18 14:43:00  Retorno por cuota: #AR-191607-G0009 (3/48) $ 2...   \n",
       "2016-11-17 23:30:00                     Gastos comunes del fideicomiso   \n",
       "2016-11-17 23:24:00  Comisión Afluenta: #AR-221607-M0006 (4/36) $ 1...   \n",
       "2016-11-17 23:24:00  Retorno por cuota: #AR-221607-M0006 (4/36) $ 1...   \n",
       "2016-11-17 23:24:00  Comisión Afluenta: #AR-231607-J0001 (4/36) $ 1...   \n",
       "2016-11-17 23:24:00  Retorno por cuota: #AR-231607-J0001 (4/36) $ 1...   \n",
       "\n",
       "                     Débitos  Créditos     Saldo  \n",
       "Fecha                                             \n",
       "2016-11-22 23:24:00     0.14      0.00  21928.17  \n",
       "2016-11-22 23:24:00     0.00      4.14  21928.31  \n",
       "2016-11-22 23:21:00     0.18      0.00  21924.17  \n",
       "2016-11-22 23:21:00     0.00      7.11  21924.35  \n",
       "2016-11-21 10:51:00     0.26      0.00  21917.24  \n",
       "2016-11-21 10:51:00     0.00      7.74  21917.50  \n",
       "2016-11-18 14:45:00     0.27      0.00  21909.76  \n",
       "2016-11-18 14:45:00     0.00      6.69  21910.03  \n",
       "2016-11-18 14:43:00     0.42      0.00  21903.34  \n",
       "2016-11-18 14:43:00     0.00     16.37  21903.76  \n",
       "2016-11-17 23:30:00     6.75      0.00  21887.39  \n",
       "2016-11-17 23:24:00     0.20      0.00  21922.39  \n",
       "2016-11-17 23:24:00     0.00      7.19  21922.59  \n",
       "2016-11-17 23:24:00     0.20      0.00  21915.40  \n",
       "2016-11-17 23:24:00     0.00      7.19  21915.60  "
      ]
     },
     "execution_count": 99,
     "metadata": {},
     "output_type": "execute_result"
    }
   ],
   "source": [
    "df.head(15)"
   ]
  },
  {
   "cell_type": "markdown",
   "metadata": {},
   "source": [
    "## \"Rolling\" check for every day in the dataset"
   ]
  },
  {
   "cell_type": "code",
   "execution_count": 104,
   "metadata": {
    "collapsed": false
   },
   "outputs": [],
   "source": [
    "start_date = df.index.values.min()\n",
    "end_date = df.index.values.max()"
   ]
  },
  {
   "cell_type": "code",
   "execution_count": 105,
   "metadata": {
    "collapsed": false
   },
   "outputs": [],
   "source": [
    "#cast to datetime type\n",
    "import datetime\n",
    "start_date = datetime.datetime.utcfromtimestamp(start_date.astype('O')/1e9)\n",
    "end_date = datetime.datetime.utcfromtimestamp(end_date.astype('O')/1e9)"
   ]
  },
  {
   "cell_type": "code",
   "execution_count": 106,
   "metadata": {
    "collapsed": false
   },
   "outputs": [],
   "source": [
    "from datetime import timedelta\n",
    "delta = timedelta(days = 1)\n",
    "\n",
    "current_date = start_date\n",
    "results = []\n",
    "while current_date < end_date:\n",
    "    current_date = current_date +  delta\n",
    "    input_money, output_money, last_balance = net_accounting(df, filter_date=pd.datetime(2016,11,21))\n",
    "    results+= [input_money - output_money == last_balance]\n",
    "    "
   ]
  },
  {
   "cell_type": "code",
   "execution_count": 107,
   "metadata": {
    "collapsed": false,
    "scrolled": true
   },
   "outputs": [
    {
     "data": {
      "text/plain": [
       "[False,\n",
       " False,\n",
       " False,\n",
       " False,\n",
       " False,\n",
       " False,\n",
       " False,\n",
       " False,\n",
       " False,\n",
       " False,\n",
       " False,\n",
       " False,\n",
       " False,\n",
       " False,\n",
       " False,\n",
       " False,\n",
       " False,\n",
       " False,\n",
       " False,\n",
       " False,\n",
       " False,\n",
       " False,\n",
       " False,\n",
       " False,\n",
       " False,\n",
       " False,\n",
       " False,\n",
       " False,\n",
       " False,\n",
       " False,\n",
       " False,\n",
       " False,\n",
       " False,\n",
       " False,\n",
       " False,\n",
       " False,\n",
       " False,\n",
       " False,\n",
       " False,\n",
       " False,\n",
       " False,\n",
       " False,\n",
       " False,\n",
       " False,\n",
       " False,\n",
       " False,\n",
       " False,\n",
       " False,\n",
       " False,\n",
       " False,\n",
       " False,\n",
       " False,\n",
       " False,\n",
       " False,\n",
       " False,\n",
       " False,\n",
       " False,\n",
       " False,\n",
       " False,\n",
       " False,\n",
       " False,\n",
       " False,\n",
       " False,\n",
       " False,\n",
       " False,\n",
       " False,\n",
       " False,\n",
       " False,\n",
       " False,\n",
       " False,\n",
       " False,\n",
       " False,\n",
       " False,\n",
       " False,\n",
       " False,\n",
       " False,\n",
       " False,\n",
       " False,\n",
       " False,\n",
       " False,\n",
       " False,\n",
       " False,\n",
       " False,\n",
       " False,\n",
       " False,\n",
       " False,\n",
       " False,\n",
       " False,\n",
       " False,\n",
       " False,\n",
       " False,\n",
       " False,\n",
       " False,\n",
       " False,\n",
       " False,\n",
       " False,\n",
       " False,\n",
       " False,\n",
       " False,\n",
       " False,\n",
       " False,\n",
       " False,\n",
       " False,\n",
       " False,\n",
       " False,\n",
       " False,\n",
       " False,\n",
       " False,\n",
       " False,\n",
       " False,\n",
       " False,\n",
       " False,\n",
       " False,\n",
       " False,\n",
       " False,\n",
       " False,\n",
       " False,\n",
       " False,\n",
       " False,\n",
       " False,\n",
       " False,\n",
       " False,\n",
       " False,\n",
       " False,\n",
       " False,\n",
       " False,\n",
       " False,\n",
       " False,\n",
       " False,\n",
       " False,\n",
       " False,\n",
       " False,\n",
       " False,\n",
       " False,\n",
       " False,\n",
       " False,\n",
       " False,\n",
       " False,\n",
       " False,\n",
       " False,\n",
       " False,\n",
       " False,\n",
       " False,\n",
       " False,\n",
       " False,\n",
       " False,\n",
       " False,\n",
       " False,\n",
       " False,\n",
       " False,\n",
       " False,\n",
       " False,\n",
       " False,\n",
       " False,\n",
       " False,\n",
       " False,\n",
       " False,\n",
       " False,\n",
       " False,\n",
       " False,\n",
       " False,\n",
       " False,\n",
       " False,\n",
       " False,\n",
       " False,\n",
       " False,\n",
       " False,\n",
       " False,\n",
       " False,\n",
       " False,\n",
       " False,\n",
       " False,\n",
       " False,\n",
       " False,\n",
       " False,\n",
       " False,\n",
       " False,\n",
       " False,\n",
       " False,\n",
       " False,\n",
       " False,\n",
       " False,\n",
       " False,\n",
       " False,\n",
       " False,\n",
       " False,\n",
       " False,\n",
       " False,\n",
       " False,\n",
       " False,\n",
       " False,\n",
       " False,\n",
       " False,\n",
       " False,\n",
       " False,\n",
       " False,\n",
       " False,\n",
       " False,\n",
       " False,\n",
       " False,\n",
       " False,\n",
       " False,\n",
       " False,\n",
       " False,\n",
       " False,\n",
       " False,\n",
       " False,\n",
       " False,\n",
       " False,\n",
       " False,\n",
       " False,\n",
       " False,\n",
       " False,\n",
       " False,\n",
       " False,\n",
       " False,\n",
       " False,\n",
       " False,\n",
       " False,\n",
       " False,\n",
       " False,\n",
       " False,\n",
       " False,\n",
       " False,\n",
       " False,\n",
       " False,\n",
       " False,\n",
       " False,\n",
       " False,\n",
       " False,\n",
       " False,\n",
       " False,\n",
       " False,\n",
       " False,\n",
       " False,\n",
       " False,\n",
       " False,\n",
       " False,\n",
       " False,\n",
       " False,\n",
       " False,\n",
       " False,\n",
       " False,\n",
       " False,\n",
       " False,\n",
       " False,\n",
       " False,\n",
       " False,\n",
       " False,\n",
       " False,\n",
       " False,\n",
       " False,\n",
       " False,\n",
       " False,\n",
       " False,\n",
       " False,\n",
       " False,\n",
       " False,\n",
       " False,\n",
       " False,\n",
       " False,\n",
       " False,\n",
       " False,\n",
       " False,\n",
       " False,\n",
       " False,\n",
       " False,\n",
       " False,\n",
       " False,\n",
       " False,\n",
       " False,\n",
       " False,\n",
       " False,\n",
       " False,\n",
       " False,\n",
       " False,\n",
       " False,\n",
       " False,\n",
       " False,\n",
       " False,\n",
       " False,\n",
       " False,\n",
       " False,\n",
       " False,\n",
       " False,\n",
       " False,\n",
       " False,\n",
       " False,\n",
       " False,\n",
       " False,\n",
       " False,\n",
       " False,\n",
       " False,\n",
       " False,\n",
       " False,\n",
       " False,\n",
       " False,\n",
       " False,\n",
       " False,\n",
       " False,\n",
       " False,\n",
       " False,\n",
       " False,\n",
       " False]"
      ]
     },
     "execution_count": 107,
     "metadata": {},
     "output_type": "execute_result"
    }
   ],
   "source": [
    "results"
   ]
  },
  {
   "cell_type": "code",
   "execution_count": null,
   "metadata": {
    "collapsed": true
   },
   "outputs": [],
   "source": []
  }
 ],
 "metadata": {
  "kernelspec": {
   "display_name": "Python 3",
   "language": "python",
   "name": "python3"
  },
  "language_info": {
   "codemirror_mode": {
    "name": "ipython",
    "version": 3
   },
   "file_extension": ".py",
   "mimetype": "text/x-python",
   "name": "python",
   "nbconvert_exporter": "python",
   "pygments_lexer": "ipython3",
   "version": "3.5.1+"
  }
 },
 "nbformat": 4,
 "nbformat_minor": 0
}
